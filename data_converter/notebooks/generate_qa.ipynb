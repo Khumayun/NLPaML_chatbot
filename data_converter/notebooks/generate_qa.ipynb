{
 "cells": [
  {
   "cell_type": "code",
   "execution_count": 1,
   "outputs": [
    {
     "name": "stdout",
     "output_type": "stream",
     "text": [
      "Collecting tqdm\r\n",
      "  Using cached tqdm-4.65.0-py3-none-any.whl (77 kB)\r\n",
      "Installing collected packages: tqdm\r\n",
      "Successfully installed tqdm-4.65.0\r\n",
      "\u001B[33mWARNING: You are using pip version 21.2.4; however, version 23.0.1 is available.\r\n",
      "You should consider upgrading via the '/Users/khumoyunaminaddinov/PycharmProjects/Ai_inno/NLPaML_chatbot/venv/bin/python3.10 -m pip install --upgrade pip' command.\u001B[0m\r\n"
     ]
    }
   ],
   "source": [
    "!pip install tqdm"
   ],
   "metadata": {
    "collapsed": false
   }
  },
  {
   "cell_type": "code",
   "execution_count": 4,
   "outputs": [
    {
     "name": "stdout",
     "output_type": "stream",
     "text": [
      "Requirement already satisfied: pip in /Users/khumoyunaminaddinov/PycharmProjects/Ai_inno/NLPaML_chatbot/venv/lib/python3.10/site-packages (21.2.4)\r\n",
      "Collecting pip\r\n",
      "  Using cached pip-23.0.1-py3-none-any.whl (2.1 MB)\r\n",
      "Installing collected packages: pip\r\n",
      "  Attempting uninstall: pip\r\n",
      "    Found existing installation: pip 21.2.4\r\n",
      "    Uninstalling pip-21.2.4:\r\n",
      "      Successfully uninstalled pip-21.2.4\r\n",
      "Successfully installed pip-23.0.1\r\n"
     ]
    }
   ],
   "source": [
    "!pip install --upgrade pip"
   ],
   "metadata": {
    "collapsed": false
   }
  },
  {
   "cell_type": "code",
   "execution_count": 8,
   "outputs": [
    {
     "name": "stdout",
     "output_type": "stream",
     "text": [
      "Cloning into 'haystack'...\r\n",
      "remote: Enumerating objects: 32720, done.\u001B[K\r\n",
      "remote: Counting objects: 100% (620/620), done.\u001B[K\r\n",
      "remote: Compressing objects: 100% (287/287), done.\u001B[K\r\n",
      "Receiving objects:  99% (32393/32720), 35.39 MiB | 1018.00 KiB/s\reiving objects:  20% (6544/32720), 21.05 MiB | 1.03 MiB/sReceiving objects:  23% (7526/32720), 21.69 MiB | 1.08 MiB/sReceiving objects:  25% (8180/32720), 21.69 MiB | 1.08 MiB/sReceiving objects:  26% (8508/32720), 22.38 MiB | 1.14 MiB/sReceiving objects:  28% (9162/32720), 22.38 MiB | 1.14 MiB/sReceiving objects:  30% (9816/32720), 22.38 MiB | 1.14 MiB/sReceiving objects:  32% (10471/32720), 23.11 MiB | 1.20 MiB/sReceiving objects:  33% (10830/32720), 23.91 MiB | 1.28 MiB/sReceiving objects:  35% (11452/32720), 23.91 MiB | 1.28 MiB/sReceiving objects:  37% (12107/32720), 24.73 MiB | 1.32 MiB/sReceiving objects:  40% (13088/32720), 24.73 MiB | 1.32 MiB/sReceiving objects:  41% (13416/32720), 26.61 MiB | 1.48 MiB/sReceiving objects:  42% (13743/32720), 27.46 MiB | 1.54 MiB/sReceiving objects:  44% (14397/32720), 27.46 MiB | 1.54 MiB/sReceiving objects:  46% (15052/32720), 27.46 MiB | 1.54 MiB/sReceiving objects:  48% (15706/32720), 28.26 MiB | 1.58 MiB/sReceiving objects:  50% (16360/32720), 28.26 MiB | 1.58 MiB/sReceiving objects:  52% (17015/32720), 29.14 MiB | 1.63 MiB/sReceiving objects:  55% (17996/32720), 29.14 MiB | 1.63 MiB/sReceiving objects:  57% (18651/32720), 29.14 MiB | 1.63 MiB/sReceiving objects:  59% (19305/32720), 29.14 MiB | 1.63 MiB/sReceiving objects:  61% (19960/32720), 30.02 MiB | 1.64 MiB/sReceiving objects:  63% (20614/32720), 30.02 MiB | 1.64 MiB/sReceiving objects:  65% (21268/32720), 30.02 MiB | 1.64 MiB/sReceiving objects:  67% (21923/32720), 30.79 MiB | 1.65 MiB/sReceiving objects:  69% (22577/32720), 30.79 MiB | 1.65 MiB/sReceiving objects:  71% (23232/32720), 30.79 MiB | 1.65 MiB/sReceiving objects:  73% (23886/32720), 31.41 MiB | 1.61 MiB/sReceiving objects:  76% (24868/32720), 31.41 MiB | 1.61 MiB/sReceiving objects:  78% (25522/32720), 31.41 MiB | 1.61 MiB/sReceiving objects:  80% (26176/32720), 31.41 MiB | 1.61 MiB/sReceiving objects:  82% (26831/32720), 31.99 MiB | 1.56 MiB/sReceiving objects:  84% (27485/32720), 31.99 MiB | 1.56 MiB/sReceiving objects:  86% (28140/32720), 32.61 MiB | 1.50 MiB/sReceiving objects:  87% (28597/32720), 32.61 MiB | 1.50 MiB/sReceiving objects:  90% (29448/32720), 34.16 MiB | 1.25 MiB/sReceiving objects:  91% (29776/32720), 34.95 MiB | 1.07 MiB/sReceiving objects:  93% (30430/32720), 35.39 MiB | 1018.00 KiB/sReceiving objects:  95% (31084/32720), 35.39 MiB | 1018.00 KiB/sReceiving objects:  96% (31537/32720), 35.39 MiB | 1018.00 KiB/sReceiving objects:  98% (32066/32720), 35.39 MiB | 1018.00 KiB/sremote: Total 32720 (delta 425), reused 470 (delta 329), pack-reused 32100\u001B[K\r\n",
      "Receiving objects: 100% (32720/32720), 36.11 MiB | 1.11 MiB/s, done.\r\n",
      "Resolving deltas: 100% (24957/24957), done.\r\n"
     ]
    }
   ],
   "source": [
    "!git clone https://github.com/deepset-ai/haystack.git"
   ],
   "metadata": {
    "collapsed": false
   }
  },
  {
   "cell_type": "code",
   "execution_count": 18,
   "outputs": [],
   "source": [
    "!brew install postgresql\n",
    "!brew install cmake\n",
    "!brew install rust"
   ],
   "metadata": {
    "collapsed": false
   }
  },
  {
   "cell_type": "code",
   "execution_count": 5,
   "outputs": [
    {
     "name": "stdout",
     "output_type": "stream",
     "text": [
      "Python 3.10.2\r\n"
     ]
    }
   ],
   "source": [
    "!python --version"
   ],
   "metadata": {
    "collapsed": false
   }
  },
  {
   "cell_type": "code",
   "execution_count": 17,
   "outputs": [],
   "source": [
    "!cd haystack && pip install -e ."
   ],
   "metadata": {
    "collapsed": false
   }
  },
  {
   "cell_type": "code",
   "execution_count": 1,
   "outputs": [],
   "source": [
    "from pprint import pprint\n",
    "from tqdm.auto import tqdm\n",
    "from haystack.nodes import QuestionGenerator, BM25Retriever, FARMReader\n",
    "from haystack.document_stores import ElasticsearchDocumentStore\n",
    "from haystack.pipelines import (\n",
    "    QuestionGenerationPipeline,\n",
    "    RetrieverQuestionGenerationPipeline,\n",
    "    QuestionAnswerGenerationPipeline,\n",
    ")\n",
    "from haystack.utils import launch_es, print_questions"
   ],
   "metadata": {
    "collapsed": false
   }
  },
  {
   "cell_type": "code",
   "execution_count": 21,
   "outputs": [],
   "source": [
    "import os\n",
    "import subprocess\n",
    "\n",
    "es_server = subprocess.Popen(\n",
    "    [\"/Users/khumoyunaminaddinov/Downloads/elasticsearch-7.9.2/bin/elasticsearch\"],\n",
    "    stdout=subprocess.PIPE,\n",
    "    stderr=subprocess.STDOUT\n",
    ")\n",
    "# wait until ES has started\n",
    "! sleep 30"
   ],
   "metadata": {
    "collapsed": false
   }
  },
  {
   "cell_type": "code",
   "execution_count": 23,
   "outputs": [
    {
     "data": {
      "text/plain": "(b'[2023-03-21T10:52:59,130][INFO ][o.e.n.Node               ] [Khumoyuns-MacBook-Air.local] version[7.9.2], pid[651], build[default/tar/d34da0ea4a966c4e49417f2da2f244e3e97b4e6e/2020-09-23T00:45:33.626720Z], OS[Mac OS X/11.2/x86_64], JVM[AdoptOpenJDK/OpenJDK 64-Bit Server VM/16.0.1/16.0.1+9]\\n[2023-03-21T10:52:59,134][INFO ][o.e.n.Node               ] [Khumoyuns-MacBook-Air.local] JVM home [/Library/Java/JavaVirtualMachines/adoptopenjdk-16.jdk/Contents/Home]\\n[2023-03-21T10:52:59,135][INFO ][o.e.n.Node               ] [Khumoyuns-MacBook-Air.local] JVM arguments [-Xshare:auto, -Des.networkaddress.cache.ttl=60, -Des.networkaddress.cache.negative.ttl=10, -XX:+AlwaysPreTouch, -Xss1m, -Djava.awt.headless=true, -Dfile.encoding=UTF-8, -Djna.nosys=true, -XX:-OmitStackTraceInFastThrow, -XX:+ShowCodeDetailsInExceptionMessages, -Dio.netty.noUnsafe=true, -Dio.netty.noKeySetOptimization=true, -Dio.netty.recycler.maxCapacityPerThread=0, -Dio.netty.allocator.numDirectArenas=0, -Dlog4j.shutdownHookEnabled=false, -Dlog4j2.disable.jmx=true, -Djava.locale.providers=SPI,COMPAT, -Xms1g, -Xmx1g, -XX:+UseG1GC, -XX:G1ReservePercent=25, -XX:InitiatingHeapOccupancyPercent=30, -Djava.io.tmpdir=/var/folders/c1/czf7ncsj3c96ngp17dxz99gw0000gn/T/elasticsearch-8043866746769364265, -XX:+HeapDumpOnOutOfMemoryError, -XX:HeapDumpPath=data, -XX:ErrorFile=logs/hs_err_pid%p.log, -Xlog:gc*,gc+age=trace,safepoint:file=logs/gc.log:utctime,pid,tags:filecount=32,filesize=64m, -XX:MaxDirectMemorySize=536870912, -Des.path.home=/Users/khumoyunaminaddinov/Downloads/elasticsearch-7.9.2, -Des.path.conf=/Users/khumoyunaminaddinov/Downloads/elasticsearch-7.9.2/config, -Des.distribution.flavor=default, -Des.distribution.type=tar, -Des.bundled_jdk=true]\\n[2023-03-21T10:53:01,648][INFO ][o.e.p.PluginsService     ] [Khumoyuns-MacBook-Air.local] loaded module [aggs-matrix-stats]\\n[2023-03-21T10:53:01,650][INFO ][o.e.p.PluginsService     ] [Khumoyuns-MacBook-Air.local] loaded module [analysis-common]\\n[2023-03-21T10:53:01,650][INFO ][o.e.p.PluginsService     ] [Khumoyuns-MacBook-Air.local] loaded module [constant-keyword]\\n[2023-03-21T10:53:01,650][INFO ][o.e.p.PluginsService     ] [Khumoyuns-MacBook-Air.local] loaded module [flattened]\\n[2023-03-21T10:53:01,651][INFO ][o.e.p.PluginsService     ] [Khumoyuns-MacBook-Air.local] loaded module [frozen-indices]\\n[2023-03-21T10:53:01,651][INFO ][o.e.p.PluginsService     ] [Khumoyuns-MacBook-Air.local] loaded module [ingest-common]\\n[2023-03-21T10:53:01,652][INFO ][o.e.p.PluginsService     ] [Khumoyuns-MacBook-Air.local] loaded module [ingest-geoip]\\n[2023-03-21T10:53:01,652][INFO ][o.e.p.PluginsService     ] [Khumoyuns-MacBook-Air.local] loaded module [ingest-user-agent]\\n[2023-03-21T10:53:01,652][INFO ][o.e.p.PluginsService     ] [Khumoyuns-MacBook-Air.local] loaded module [kibana]\\n[2023-03-21T10:53:01,652][INFO ][o.e.p.PluginsService     ] [Khumoyuns-MacBook-Air.local] loaded module [lang-expression]\\n[2023-03-21T10:53:01,652][INFO ][o.e.p.PluginsService     ] [Khumoyuns-MacBook-Air.local] loaded module [lang-mustache]\\n[2023-03-21T10:53:01,653][INFO ][o.e.p.PluginsService     ] [Khumoyuns-MacBook-Air.local] loaded module [lang-painless]\\n[2023-03-21T10:53:01,653][INFO ][o.e.p.PluginsService     ] [Khumoyuns-MacBook-Air.local] loaded module [mapper-extras]\\n[2023-03-21T10:53:01,654][INFO ][o.e.p.PluginsService     ] [Khumoyuns-MacBook-Air.local] loaded module [parent-join]\\n[2023-03-21T10:53:01,654][INFO ][o.e.p.PluginsService     ] [Khumoyuns-MacBook-Air.local] loaded module [percolator]\\n[2023-03-21T10:53:01,654][INFO ][o.e.p.PluginsService     ] [Khumoyuns-MacBook-Air.local] loaded module [rank-eval]\\n[2023-03-21T10:53:01,655][INFO ][o.e.p.PluginsService     ] [Khumoyuns-MacBook-Air.local] loaded module [reindex]\\n[2023-03-21T10:53:01,655][INFO ][o.e.p.PluginsService     ] [Khumoyuns-MacBook-Air.local] loaded module [repository-url]\\n[2023-03-21T10:53:01,655][INFO ][o.e.p.PluginsService     ] [Khumoyuns-MacBook-Air.local] loaded module [search-business-rules]\\n[2023-03-21T10:53:01,655][INFO ][o.e.p.PluginsService     ] [Khumoyuns-MacBook-Air.local] loaded module [searchable-snapshots]\\n[2023-03-21T10:53:01,656][INFO ][o.e.p.PluginsService     ] [Khumoyuns-MacBook-Air.local] loaded module [spatial]\\n[2023-03-21T10:53:01,656][INFO ][o.e.p.PluginsService     ] [Khumoyuns-MacBook-Air.local] loaded module [tasks]\\n[2023-03-21T10:53:01,656][INFO ][o.e.p.PluginsService     ] [Khumoyuns-MacBook-Air.local] loaded module [transform]\\n[2023-03-21T10:53:01,657][INFO ][o.e.p.PluginsService     ] [Khumoyuns-MacBook-Air.local] loaded module [transport-netty4]\\n[2023-03-21T10:53:01,657][INFO ][o.e.p.PluginsService     ] [Khumoyuns-MacBook-Air.local] loaded module [vectors]\\n[2023-03-21T10:53:01,657][INFO ][o.e.p.PluginsService     ] [Khumoyuns-MacBook-Air.local] loaded module [wildcard]\\n[2023-03-21T10:53:01,657][INFO ][o.e.p.PluginsService     ] [Khumoyuns-MacBook-Air.local] loaded module [x-pack-analytics]\\n[2023-03-21T10:53:01,657][INFO ][o.e.p.PluginsService     ] [Khumoyuns-MacBook-Air.local] loaded module [x-pack-async]\\n[2023-03-21T10:53:01,658][INFO ][o.e.p.PluginsService     ] [Khumoyuns-MacBook-Air.local] loaded module [x-pack-async-search]\\n[2023-03-21T10:53:01,658][INFO ][o.e.p.PluginsService     ] [Khumoyuns-MacBook-Air.local] loaded module [x-pack-autoscaling]\\n[2023-03-21T10:53:01,658][INFO ][o.e.p.PluginsService     ] [Khumoyuns-MacBook-Air.local] loaded module [x-pack-ccr]\\n[2023-03-21T10:53:01,658][INFO ][o.e.p.PluginsService     ] [Khumoyuns-MacBook-Air.local] loaded module [x-pack-core]\\n[2023-03-21T10:53:01,659][INFO ][o.e.p.PluginsService     ] [Khumoyuns-MacBook-Air.local] loaded module [x-pack-data-streams]\\n[2023-03-21T10:53:01,659][INFO ][o.e.p.PluginsService     ] [Khumoyuns-MacBook-Air.local] loaded module [x-pack-deprecation]\\n[2023-03-21T10:53:01,660][INFO ][o.e.p.PluginsService     ] [Khumoyuns-MacBook-Air.local] loaded module [x-pack-enrich]\\n[2023-03-21T10:53:01,660][INFO ][o.e.p.PluginsService     ] [Khumoyuns-MacBook-Air.local] loaded module [x-pack-eql]\\n[2023-03-21T10:53:01,660][INFO ][o.e.p.PluginsService     ] [Khumoyuns-MacBook-Air.local] loaded module [x-pack-graph]\\n[2023-03-21T10:53:01,660][INFO ][o.e.p.PluginsService     ] [Khumoyuns-MacBook-Air.local] loaded module [x-pack-identity-provider]\\n[2023-03-21T10:53:01,661][INFO ][o.e.p.PluginsService     ] [Khumoyuns-MacBook-Air.local] loaded module [x-pack-ilm]\\n[2023-03-21T10:53:01,661][INFO ][o.e.p.PluginsService     ] [Khumoyuns-MacBook-Air.local] loaded module [x-pack-logstash]\\n[2023-03-21T10:53:01,661][INFO ][o.e.p.PluginsService     ] [Khumoyuns-MacBook-Air.local] loaded module [x-pack-ml]\\n[2023-03-21T10:53:01,662][INFO ][o.e.p.PluginsService     ] [Khumoyuns-MacBook-Air.local] loaded module [x-pack-monitoring]\\n[2023-03-21T10:53:01,662][INFO ][o.e.p.PluginsService     ] [Khumoyuns-MacBook-Air.local] loaded module [x-pack-ql]\\n[2023-03-21T10:53:01,662][INFO ][o.e.p.PluginsService     ] [Khumoyuns-MacBook-Air.local] loaded module [x-pack-rollup]\\n[2023-03-21T10:53:01,662][INFO ][o.e.p.PluginsService     ] [Khumoyuns-MacBook-Air.local] loaded module [x-pack-security]\\n[2023-03-21T10:53:01,662][INFO ][o.e.p.PluginsService     ] [Khumoyuns-MacBook-Air.local] loaded module [x-pack-sql]\\n[2023-03-21T10:53:01,663][INFO ][o.e.p.PluginsService     ] [Khumoyuns-MacBook-Air.local] loaded module [x-pack-stack]\\n[2023-03-21T10:53:01,663][INFO ][o.e.p.PluginsService     ] [Khumoyuns-MacBook-Air.local] loaded module [x-pack-voting-only-node]\\n[2023-03-21T10:53:01,663][INFO ][o.e.p.PluginsService     ] [Khumoyuns-MacBook-Air.local] loaded module [x-pack-watcher]\\n[2023-03-21T10:53:01,663][INFO ][o.e.p.PluginsService     ] [Khumoyuns-MacBook-Air.local] no plugins loaded\\n[2023-03-21T10:53:01,781][INFO ][o.e.e.NodeEnvironment    ] [Khumoyuns-MacBook-Air.local] using [1] data paths, mounts [[/System/Volumes/Data (/dev/disk3s5)]], net usable_space [17.6gb], net total_space [228.2gb], types [apfs]\\n[2023-03-21T10:53:01,786][INFO ][o.e.e.NodeEnvironment    ] [Khumoyuns-MacBook-Air.local] heap size [1gb], compressed ordinary object pointers [true]\\n[2023-03-21T10:53:01,836][INFO ][o.e.n.Node               ] [Khumoyuns-MacBook-Air.local] node name [Khumoyuns-MacBook-Air.local], node ID [4Uo9x7sLS42DTk6BbTcCtg], cluster name [elasticsearch]\\n[2023-03-21T10:53:17,678][ERROR][o.e.b.ElasticsearchUncaughtExceptionHandler] [Khumoyuns-MacBook-Air.local] uncaught exception in thread [main]\\norg.elasticsearch.bootstrap.StartupException: ElasticsearchException[Failure running machine learning native code. This could be due to running on an unsupported OS or distribution, missing OS libraries, or a problem with the temp directory. To bypass this problem by running Elasticsearch without machine learning functionality set [xpack.ml.enabled: false].]\\n\\tat org.elasticsearch.bootstrap.Elasticsearch.init(Elasticsearch.java:174) ~[elasticsearch-7.9.2.jar:7.9.2]\\n\\tat org.elasticsearch.bootstrap.Elasticsearch.execute(Elasticsearch.java:161) ~[elasticsearch-7.9.2.jar:7.9.2]\\n\\tat org.elasticsearch.cli.EnvironmentAwareCommand.execute(EnvironmentAwareCommand.java:86) ~[elasticsearch-7.9.2.jar:7.9.2]\\n\\tat org.elasticsearch.cli.Command.mainWithoutErrorHandling(Command.java:127) ~[elasticsearch-cli-7.9.2.jar:7.9.2]\\n\\tat org.elasticsearch.cli.Command.main(Command.java:90) ~[elasticsearch-cli-7.9.2.jar:7.9.2]\\n\\tat org.elasticsearch.bootstrap.Elasticsearch.main(Elasticsearch.java:126) ~[elasticsearch-7.9.2.jar:7.9.2]\\n\\tat org.elasticsearch.bootstrap.Elasticsearch.main(Elasticsearch.java:92) ~[elasticsearch-7.9.2.jar:7.9.2]\\nCaused by: org.elasticsearch.ElasticsearchException: Failure running machine learning native code. This could be due to running on an unsupported OS or distribution, missing OS libraries, or a problem with the temp directory. To bypass this problem by running Elasticsearch without machine learning functionality set [xpack.ml.enabled: false].\\n\\tat org.elasticsearch.xpack.ml.MachineLearning.createComponents(MachineLearning.java:645) ~[?:?]\\n\\tat org.elasticsearch.node.Node.lambda$new$14(Node.java:522) ~[elasticsearch-7.9.2.jar:7.9.2]\\n\\tat java.util.stream.ReferencePipeline$7$1.accept(ReferencePipeline.java:273) ~[?:?]\\n\\tat java.util.ArrayList$ArrayListSpliterator.forEachRemaining(ArrayList.java:1625) ~[?:?]\\n\\tat java.util.stream.AbstractPipeline.copyInto(AbstractPipeline.java:484) ~[?:?]\\n\\tat java.util.stream.AbstractPipeline.wrapAndCopyInto(AbstractPipeline.java:474) ~[?:?]\\n\\tat java.util.stream.ReduceOps$ReduceOp.evaluateSequential(ReduceOps.java:913) ~[?:?]\\n\\tat java.util.stream.AbstractPipeline.evaluate(AbstractPipeline.java:234) ~[?:?]\\n\\tat java.util.stream.ReferencePipeline.collect(ReferencePipeline.java:682) ~[?:?]\\n\\tat org.elasticsearch.node.Node.<init>(Node.java:526) ~[elasticsearch-7.9.2.jar:7.9.2]\\n\\tat org.elasticsearch.node.Node.<init>(Node.java:277) ~[elasticsearch-7.9.2.jar:7.9.2]\\n\\tat org.elasticsearch.bootstrap.Bootstrap$5.<init>(Bootstrap.java:227) ~[elasticsearch-7.9.2.jar:7.9.2]\\n\\tat org.elasticsearch.bootstrap.Bootstrap.setup(Bootstrap.java:227) ~[elasticsearch-7.9.2.jar:7.9.2]\\n\\tat org.elasticsearch.bootstrap.Bootstrap.init(Bootstrap.java:393) ~[elasticsearch-7.9.2.jar:7.9.2]\\n\\tat org.elasticsearch.bootstrap.Elasticsearch.init(Elasticsearch.java:170) ~[elasticsearch-7.9.2.jar:7.9.2]\\n\\t... 6 more\\nuncaught exception in thread [main]\\nElasticsearchException[Failure running machine learning native code. This could be due to running on an unsupported OS or distribution, missing OS libraries, or a problem with the temp directory. To bypass this problem by running Elasticsearch without machine learning functionality set [xpack.ml.enabled: false].]\\n\\tat org.elasticsearch.xpack.ml.MachineLearning.createComponents(MachineLearning.java:645)\\n\\tat org.elasticsearch.node.Node.lambda$new$14(Node.java:522)\\n\\tat java.base/java.util.stream.ReferencePipeline$7$1.accept(ReferencePipeline.java:273)\\n\\tat java.base/java.util.ArrayList$ArrayListSpliterator.forEachRemaining(ArrayList.java:1625)\\n\\tat java.base/java.util.stream.AbstractPipeline.copyInto(AbstractPipeline.java:484)\\n\\tat java.base/java.util.stream.AbstractPipeline.wrapAndCopyInto(AbstractPipeline.java:474)\\n\\tat java.base/java.util.stream.ReduceOps$ReduceOp.evaluateSequential(ReduceOps.java:913)\\n\\tat java.base/java.util.stream.AbstractPipeline.evaluate(AbstractPipeline.java:234)\\n\\tat java.base/java.util.stream.ReferencePipeline.collect(ReferencePipeline.java:682)\\n\\tat org.elasticsearch.node.Node.<init>(Node.java:526)\\n\\tat org.elasticsearch.node.Node.<init>(Node.java:277)\\n\\tat org.elasticsearch.bootstrap.Bootstrap$5.<init>(Bootstrap.java:227)\\n\\tat org.elasticsearch.bootstrap.Bootstrap.setup(Bootstrap.java:227)\\n\\tat org.elasticsearch.bootstrap.Bootstrap.init(Bootstrap.java:393)\\n\\tat org.elasticsearch.bootstrap.Elasticsearch.init(Elasticsearch.java:170)\\n\\tat org.elasticsearch.bootstrap.Elasticsearch.execute(Elasticsearch.java:161)\\n\\tat org.elasticsearch.cli.EnvironmentAwareCommand.execute(EnvironmentAwareCommand.java:86)\\n\\tat org.elasticsearch.cli.Command.mainWithoutErrorHandling(Command.java:127)\\n\\tat org.elasticsearch.cli.Command.main(Command.java:90)\\n\\tat org.elasticsearch.bootstrap.Elasticsearch.main(Elasticsearch.java:126)\\n\\tat org.elasticsearch.bootstrap.Elasticsearch.main(Elasticsearch.java:92)\\nFor complete error details, refer to the log at /Users/khumoyunaminaddinov/Downloads/elasticsearch-7.9.2/logs/elasticsearch.log\\n',\n None)"
     },
     "execution_count": 23,
     "metadata": {},
     "output_type": "execute_result"
    }
   ],
   "source": [
    "es_server.communicate()"
   ],
   "metadata": {
    "collapsed": false
   }
  },
  {
   "cell_type": "code",
   "execution_count": 9,
   "outputs": [],
   "source": [
    "import re\n",
    "\n",
    "def extract_text(d, text_list):\n",
    "    if isinstance(d, dict):\n",
    "        if \"document\" in d and isinstance(d[\"document\"], dict):\n",
    "            extract_text(d[\"document\"], text_list)\n",
    "\n",
    "        if \"section\" in d and isinstance(d[\"section\"], list):\n",
    "            extract_text(d[\"section\"], text_list)\n",
    "        if \"section\" in d and isinstance(d[\"section\"], dict):\n",
    "            extract_text(d[\"section\"], text_list)\n",
    "\n",
    "        if \"paragraph\" in d and isinstance(d[\"paragraph\"], list):\n",
    "            extract_text(d[\"paragraph\"], text_list)\n",
    "        if \"paragraph\" in d and isinstance(d[\"paragraph\"], str):\n",
    "            text_list.append(re.sub('^\\s+|\\s+$|\\s+(?=\\s)', ' ', d[\"paragraph\"].strip()))\n",
    "        if \"paragraph\" in d and isinstance(d[\"paragraph\"], dict):\n",
    "            extract_text(d[\"paragraph\"], text_list)\n",
    "\n",
    "        if \"@names\" in d and isinstance(d[\"@names\"], str):\n",
    "            text_list.append(re.sub('^\\s+|\\s+$|\\s+(?=\\s)', ' ', d[\"@names\"].strip()))\n",
    "\n",
    "        if \"#text\" in d and isinstance(d[\"#text\"], str):\n",
    "            text_list.append(re.sub('^\\s+|\\s+$|\\s+(?=\\s)', ' ', d[\"#text\"].strip()))\n",
    "        if \"desc_content\" in d and isinstance(d[\"desc_content\"], dict):\n",
    "            extract_text(d[\"desc_content\"], text_list)\n",
    "        if \"desc_name\" in d and isinstance(d[\"desc_name\"], dict):\n",
    "            extract_text(d[\"desc_name\"], text_list)\n",
    "#         if \"literal_block\" in d and isinstance(d[\"literal_block\"], list):\n",
    "#             extract_text(d[\"literal_block\"], text_list)\n",
    "        if \"desc_signature\" in d and isinstance(d[\"desc_signature\"], dict):\n",
    "            extract_text(d[\"desc_signature\"], text_list)\n",
    "        if \"desc\" in d and isinstance(d[\"desc\"], list):\n",
    "            extract_text(d[\"desc\"], text_list)\n",
    "        if \"desc_content\" in d and isinstance(d[\"desc_content\"], dict):\n",
    "            extract_text(d[\"desc_content\"], text_list)\n",
    "\n",
    "    elif isinstance(d, list):\n",
    "        for item in d:\n",
    "            extract_text(item, text_list)\n",
    "    elif isinstance(d, str):\n",
    "        text_list.append(re.sub('^\\s+|\\s+$|\\s+(?=\\s)', ' ', d.strip()))"
   ],
   "metadata": {
    "collapsed": false
   }
  },
  {
   "cell_type": "code",
   "execution_count": 18,
   "outputs": [
    {
     "data": {
      "text/plain": "96"
     },
     "execution_count": 18,
     "metadata": {},
     "output_type": "execute_result"
    }
   ],
   "source": [
    "import json\n",
    "\n",
    "collections_json = json.loads(open('../data/collections.json', 'r').read())\n",
    "document_texts = []\n",
    "extract_text(collections_json, document_texts)\n",
    "open('output.txt', 'w').write(str(document_texts))\n",
    "len(document_texts)"
   ],
   "metadata": {
    "collapsed": false
   }
  },
  {
   "cell_type": "code",
   "execution_count": 25,
   "outputs": [],
   "source": [
    "# Option 1: Start Elasticsearch service via Docker\n",
    "launch_es()"
   ],
   "metadata": {
    "collapsed": false
   }
  },
  {
   "cell_type": "code",
   "execution_count": 38,
   "outputs": [
    {
     "name": "stderr",
     "output_type": "stream",
     "text": [
      "/Users/khumoyunaminaddinov/PycharmProjects/Ai_inno/NLPaML_chatbot/venv/lib/python3.10/site-packages/elasticsearch/connection/base.py:200: ElasticsearchWarning: Elasticsearch built-in security features are not enabled. Without authentication, your cluster could be accessible to anyone. See https://www.elastic.co/guide/en/elasticsearch/reference/7.17/security-minimal-setup.html to enable security.\n",
      "  warnings.warn(message, category=ElasticsearchWarning)\n",
      "/Users/khumoyunaminaddinov/PycharmProjects/Ai_inno/NLPaML_chatbot/venv/lib/python3.10/site-packages/torch/_utils.py:776: UserWarning: TypedStorage is deprecated. It will be removed in the future and UntypedStorage will be the only storage class. This should only matter to you if you are using storages directly.  To access UntypedStorage directly, use tensor.untyped_storage() instead of tensor.storage()\n",
      "  return self.fget.__get__(instance, owner)()\n",
      "Using sep_token, but it is not set yet.\n"
     ]
    }
   ],
   "source": [
    "docs = [{\"content\": x} for x in document_texts]\n",
    "\n",
    "# Initialize document store and write in the documents\n",
    "document_store = ElasticsearchDocumentStore()\n",
    "document_store.write_documents(docs)\n",
    "\n",
    "# Initialize Question Generator\n",
    "question_generator = QuestionGenerator()"
   ],
   "metadata": {
    "collapsed": false
   }
  },
  {
   "cell_type": "code",
   "execution_count": 39,
   "outputs": [],
   "source": [
    "questions = []\n",
    "answers = []"
   ],
   "metadata": {
    "collapsed": false
   }
  },
  {
   "cell_type": "code",
   "execution_count": 40,
   "outputs": [
    {
     "data": {
      "text/plain": "Inferencing Samples:   0%|          | 0/1 [00:00<?, ? Batches/s]",
      "application/vnd.jupyter.widget-view+json": {
       "version_major": 2,
       "version_minor": 0,
       "model_id": "85c54334cd95433da118e28dc3b0cf56"
      }
     },
     "metadata": {},
     "output_type": "display_data"
    },
    {
     "data": {
      "text/plain": "Inferencing Samples:   0%|          | 0/1 [00:00<?, ? Batches/s]",
      "application/vnd.jupyter.widget-view+json": {
       "version_major": 2,
       "version_minor": 0,
       "model_id": "de9dc9e7e0474338877eaaef73af2ea5"
      }
     },
     "metadata": {},
     "output_type": "display_data"
    },
    {
     "data": {
      "text/plain": "Inferencing Samples:   0%|          | 0/1 [00:00<?, ? Batches/s]",
      "application/vnd.jupyter.widget-view+json": {
       "version_major": 2,
       "version_minor": 0,
       "model_id": "8b1db47a28ff40d0aee7192c735f9f15"
      }
     },
     "metadata": {},
     "output_type": "display_data"
    },
    {
     "data": {
      "text/plain": "Inferencing Samples:   0%|          | 0/1 [00:00<?, ? Batches/s]",
      "application/vnd.jupyter.widget-view+json": {
       "version_major": 2,
       "version_minor": 0,
       "model_id": "2b72849e79dd4497bece8c835c81fad2"
      }
     },
     "metadata": {},
     "output_type": "display_data"
    },
    {
     "data": {
      "text/plain": "Inferencing Samples:   0%|          | 0/1 [00:00<?, ? Batches/s]",
      "application/vnd.jupyter.widget-view+json": {
       "version_major": 2,
       "version_minor": 0,
       "model_id": "7c260076a3934d598d58655728375b7a"
      }
     },
     "metadata": {},
     "output_type": "display_data"
    },
    {
     "data": {
      "text/plain": "Inferencing Samples:   0%|          | 0/1 [00:00<?, ? Batches/s]",
      "application/vnd.jupyter.widget-view+json": {
       "version_major": 2,
       "version_minor": 0,
       "model_id": "7119a219d6f6433e9e0b36a96dd61d8c"
      }
     },
     "metadata": {},
     "output_type": "display_data"
    },
    {
     "data": {
      "text/plain": "Inferencing Samples:   0%|          | 0/1 [00:00<?, ? Batches/s]",
      "application/vnd.jupyter.widget-view+json": {
       "version_major": 2,
       "version_minor": 0,
       "model_id": "67c71ac6123541778039d3c6f17ea95a"
      }
     },
     "metadata": {},
     "output_type": "display_data"
    },
    {
     "data": {
      "text/plain": "Inferencing Samples:   0%|          | 0/1 [00:00<?, ? Batches/s]",
      "application/vnd.jupyter.widget-view+json": {
       "version_major": 2,
       "version_minor": 0,
       "model_id": "90717b8b10034286b0bfe73079860b07"
      }
     },
     "metadata": {},
     "output_type": "display_data"
    },
    {
     "data": {
      "text/plain": "Inferencing Samples:   0%|          | 0/1 [00:00<?, ? Batches/s]",
      "application/vnd.jupyter.widget-view+json": {
       "version_major": 2,
       "version_minor": 0,
       "model_id": "99febde92c224388b7c4552df76110c7"
      }
     },
     "metadata": {},
     "output_type": "display_data"
    },
    {
     "data": {
      "text/plain": "Inferencing Samples:   0%|          | 0/1 [00:00<?, ? Batches/s]",
      "application/vnd.jupyter.widget-view+json": {
       "version_major": 2,
       "version_minor": 0,
       "model_id": "34f8c94b8c594c828886cb959344e280"
      }
     },
     "metadata": {},
     "output_type": "display_data"
    },
    {
     "data": {
      "text/plain": "Inferencing Samples:   0%|          | 0/1 [00:00<?, ? Batches/s]",
      "application/vnd.jupyter.widget-view+json": {
       "version_major": 2,
       "version_minor": 0,
       "model_id": "8f5db61740a843b8bf01901ed58ff2f1"
      }
     },
     "metadata": {},
     "output_type": "display_data"
    },
    {
     "data": {
      "text/plain": "Inferencing Samples:   0%|          | 0/1 [00:00<?, ? Batches/s]",
      "application/vnd.jupyter.widget-view+json": {
       "version_major": 2,
       "version_minor": 0,
       "model_id": "7b90ee4552b942e5bb5774b6bac398c6"
      }
     },
     "metadata": {},
     "output_type": "display_data"
    },
    {
     "data": {
      "text/plain": "Inferencing Samples:   0%|          | 0/1 [00:00<?, ? Batches/s]",
      "application/vnd.jupyter.widget-view+json": {
       "version_major": 2,
       "version_minor": 0,
       "model_id": "ca1fd79ae7c2433cbf91ddeb1889b90c"
      }
     },
     "metadata": {},
     "output_type": "display_data"
    },
    {
     "data": {
      "text/plain": "Inferencing Samples:   0%|          | 0/1 [00:00<?, ? Batches/s]",
      "application/vnd.jupyter.widget-view+json": {
       "version_major": 2,
       "version_minor": 0,
       "model_id": "c423741cd78e4306923067ca932e911f"
      }
     },
     "metadata": {},
     "output_type": "display_data"
    },
    {
     "data": {
      "text/plain": "Inferencing Samples:   0%|          | 0/1 [00:00<?, ? Batches/s]",
      "application/vnd.jupyter.widget-view+json": {
       "version_major": 2,
       "version_minor": 0,
       "model_id": "c77344cf134241c3ba3ae1d64ccf42de"
      }
     },
     "metadata": {},
     "output_type": "display_data"
    },
    {
     "data": {
      "text/plain": "Inferencing Samples:   0%|          | 0/1 [00:00<?, ? Batches/s]",
      "application/vnd.jupyter.widget-view+json": {
       "version_major": 2,
       "version_minor": 0,
       "model_id": "e43fdc9da6a24cf689e8fb647f0130c9"
      }
     },
     "metadata": {},
     "output_type": "display_data"
    },
    {
     "data": {
      "text/plain": "Inferencing Samples:   0%|          | 0/1 [00:00<?, ? Batches/s]",
      "application/vnd.jupyter.widget-view+json": {
       "version_major": 2,
       "version_minor": 0,
       "model_id": "45146c8d1a794e859c1ea573dc5d6f6b"
      }
     },
     "metadata": {},
     "output_type": "display_data"
    },
    {
     "data": {
      "text/plain": "Inferencing Samples:   0%|          | 0/1 [00:00<?, ? Batches/s]",
      "application/vnd.jupyter.widget-view+json": {
       "version_major": 2,
       "version_minor": 0,
       "model_id": "f10ea5454c1f4be4bf607f7b98cb37ec"
      }
     },
     "metadata": {},
     "output_type": "display_data"
    },
    {
     "data": {
      "text/plain": "Inferencing Samples:   0%|          | 0/1 [00:00<?, ? Batches/s]",
      "application/vnd.jupyter.widget-view+json": {
       "version_major": 2,
       "version_minor": 0,
       "model_id": "19d3471578d54e1faf1bb7e9f340f147"
      }
     },
     "metadata": {},
     "output_type": "display_data"
    },
    {
     "data": {
      "text/plain": "Inferencing Samples:   0%|          | 0/1 [00:00<?, ? Batches/s]",
      "application/vnd.jupyter.widget-view+json": {
       "version_major": 2,
       "version_minor": 0,
       "model_id": "935b069ce26542819d0722cf6cb579a1"
      }
     },
     "metadata": {},
     "output_type": "display_data"
    },
    {
     "data": {
      "text/plain": "Inferencing Samples:   0%|          | 0/1 [00:00<?, ? Batches/s]",
      "application/vnd.jupyter.widget-view+json": {
       "version_major": 2,
       "version_minor": 0,
       "model_id": "04e33bf206a044f5ad52e1061e52ed5a"
      }
     },
     "metadata": {},
     "output_type": "display_data"
    },
    {
     "data": {
      "text/plain": "Inferencing Samples:   0%|          | 0/1 [00:00<?, ? Batches/s]",
      "application/vnd.jupyter.widget-view+json": {
       "version_major": 2,
       "version_minor": 0,
       "model_id": "fda6595ef09341ddb3cd18a14ff58f1d"
      }
     },
     "metadata": {},
     "output_type": "display_data"
    },
    {
     "data": {
      "text/plain": "Inferencing Samples:   0%|          | 0/1 [00:00<?, ? Batches/s]",
      "application/vnd.jupyter.widget-view+json": {
       "version_major": 2,
       "version_minor": 0,
       "model_id": "d77b8ba5d91e4e0cb17b71b67297d0e5"
      }
     },
     "metadata": {},
     "output_type": "display_data"
    },
    {
     "data": {
      "text/plain": "Inferencing Samples:   0%|          | 0/1 [00:00<?, ? Batches/s]",
      "application/vnd.jupyter.widget-view+json": {
       "version_major": 2,
       "version_minor": 0,
       "model_id": "fa016b5179054396bf3e735f160a84f5"
      }
     },
     "metadata": {},
     "output_type": "display_data"
    },
    {
     "data": {
      "text/plain": "Inferencing Samples:   0%|          | 0/1 [00:00<?, ? Batches/s]",
      "application/vnd.jupyter.widget-view+json": {
       "version_major": 2,
       "version_minor": 0,
       "model_id": "e40b9edf71084b359ae913b4695ac072"
      }
     },
     "metadata": {},
     "output_type": "display_data"
    },
    {
     "data": {
      "text/plain": "Inferencing Samples:   0%|          | 0/1 [00:00<?, ? Batches/s]",
      "application/vnd.jupyter.widget-view+json": {
       "version_major": 2,
       "version_minor": 0,
       "model_id": "0508bcc8e712497391dbdf9bed1c6c3d"
      }
     },
     "metadata": {},
     "output_type": "display_data"
    },
    {
     "data": {
      "text/plain": "Inferencing Samples:   0%|          | 0/1 [00:00<?, ? Batches/s]",
      "application/vnd.jupyter.widget-view+json": {
       "version_major": 2,
       "version_minor": 0,
       "model_id": "47ace2cee8ea4e07b1693030f7954b18"
      }
     },
     "metadata": {},
     "output_type": "display_data"
    },
    {
     "data": {
      "text/plain": "Inferencing Samples:   0%|          | 0/1 [00:00<?, ? Batches/s]",
      "application/vnd.jupyter.widget-view+json": {
       "version_major": 2,
       "version_minor": 0,
       "model_id": "88f3b0e18f754528ac0e2645343c08d9"
      }
     },
     "metadata": {},
     "output_type": "display_data"
    },
    {
     "data": {
      "text/plain": "Inferencing Samples:   0%|          | 0/1 [00:00<?, ? Batches/s]",
      "application/vnd.jupyter.widget-view+json": {
       "version_major": 2,
       "version_minor": 0,
       "model_id": "abdf87e2e2104d68ae3efc0945568787"
      }
     },
     "metadata": {},
     "output_type": "display_data"
    },
    {
     "data": {
      "text/plain": "Inferencing Samples:   0%|          | 0/1 [00:00<?, ? Batches/s]",
      "application/vnd.jupyter.widget-view+json": {
       "version_major": 2,
       "version_minor": 0,
       "model_id": "9e941db4cfac4b72ba624122c1149e99"
      }
     },
     "metadata": {},
     "output_type": "display_data"
    },
    {
     "data": {
      "text/plain": "Inferencing Samples:   0%|          | 0/1 [00:00<?, ? Batches/s]",
      "application/vnd.jupyter.widget-view+json": {
       "version_major": 2,
       "version_minor": 0,
       "model_id": "f7492de0d91f4627b7e3a4c3ff1db623"
      }
     },
     "metadata": {},
     "output_type": "display_data"
    },
    {
     "data": {
      "text/plain": "Inferencing Samples:   0%|          | 0/1 [00:00<?, ? Batches/s]",
      "application/vnd.jupyter.widget-view+json": {
       "version_major": 2,
       "version_minor": 0,
       "model_id": "f656ce3d5ef542ec812a696c7e84de2f"
      }
     },
     "metadata": {},
     "output_type": "display_data"
    },
    {
     "data": {
      "text/plain": "Inferencing Samples:   0%|          | 0/1 [00:00<?, ? Batches/s]",
      "application/vnd.jupyter.widget-view+json": {
       "version_major": 2,
       "version_minor": 0,
       "model_id": "8fd3acf2002e4722aee2320137760ccd"
      }
     },
     "metadata": {},
     "output_type": "display_data"
    },
    {
     "data": {
      "text/plain": "Inferencing Samples:   0%|          | 0/1 [00:00<?, ? Batches/s]",
      "application/vnd.jupyter.widget-view+json": {
       "version_major": 2,
       "version_minor": 0,
       "model_id": "ff23824f85ba41838ed65e4fcf4795f0"
      }
     },
     "metadata": {},
     "output_type": "display_data"
    },
    {
     "data": {
      "text/plain": "Inferencing Samples:   0%|          | 0/1 [00:00<?, ? Batches/s]",
      "application/vnd.jupyter.widget-view+json": {
       "version_major": 2,
       "version_minor": 0,
       "model_id": "68044755f9ab4374934388f466bc8dfd"
      }
     },
     "metadata": {},
     "output_type": "display_data"
    },
    {
     "data": {
      "text/plain": "Inferencing Samples:   0%|          | 0/1 [00:00<?, ? Batches/s]",
      "application/vnd.jupyter.widget-view+json": {
       "version_major": 2,
       "version_minor": 0,
       "model_id": "10ca2a465f2e484dadc9125b24ff8933"
      }
     },
     "metadata": {},
     "output_type": "display_data"
    },
    {
     "data": {
      "text/plain": "Inferencing Samples:   0%|          | 0/1 [00:00<?, ? Batches/s]",
      "application/vnd.jupyter.widget-view+json": {
       "version_major": 2,
       "version_minor": 0,
       "model_id": "7e0fff6a10a2497fa2f8199e08515f08"
      }
     },
     "metadata": {},
     "output_type": "display_data"
    },
    {
     "data": {
      "text/plain": "Inferencing Samples:   0%|          | 0/1 [00:00<?, ? Batches/s]",
      "application/vnd.jupyter.widget-view+json": {
       "version_major": 2,
       "version_minor": 0,
       "model_id": "d97bf4abb7a0409ea5b48fbcbd953437"
      }
     },
     "metadata": {},
     "output_type": "display_data"
    },
    {
     "data": {
      "text/plain": "Inferencing Samples:   0%|          | 0/1 [00:00<?, ? Batches/s]",
      "application/vnd.jupyter.widget-view+json": {
       "version_major": 2,
       "version_minor": 0,
       "model_id": "a023e7aa46cf497397806381a73261e3"
      }
     },
     "metadata": {},
     "output_type": "display_data"
    },
    {
     "data": {
      "text/plain": "Inferencing Samples:   0%|          | 0/1 [00:00<?, ? Batches/s]",
      "application/vnd.jupyter.widget-view+json": {
       "version_major": 2,
       "version_minor": 0,
       "model_id": "514b1c568e8f4c85a7d15273b1d6051f"
      }
     },
     "metadata": {},
     "output_type": "display_data"
    },
    {
     "data": {
      "text/plain": "Inferencing Samples:   0%|          | 0/1 [00:00<?, ? Batches/s]",
      "application/vnd.jupyter.widget-view+json": {
       "version_major": 2,
       "version_minor": 0,
       "model_id": "61b6af9e6abe4bfd9febff1b4812f730"
      }
     },
     "metadata": {},
     "output_type": "display_data"
    },
    {
     "data": {
      "text/plain": "Inferencing Samples:   0%|          | 0/1 [00:00<?, ? Batches/s]",
      "application/vnd.jupyter.widget-view+json": {
       "version_major": 2,
       "version_minor": 0,
       "model_id": "fbcc484175bc49faa5fc1d5efb68c264"
      }
     },
     "metadata": {},
     "output_type": "display_data"
    },
    {
     "data": {
      "text/plain": "Inferencing Samples:   0%|          | 0/1 [00:00<?, ? Batches/s]",
      "application/vnd.jupyter.widget-view+json": {
       "version_major": 2,
       "version_minor": 0,
       "model_id": "43ac1516fbe84a2891eecd96a202db77"
      }
     },
     "metadata": {},
     "output_type": "display_data"
    },
    {
     "data": {
      "text/plain": "Inferencing Samples:   0%|          | 0/1 [00:00<?, ? Batches/s]",
      "application/vnd.jupyter.widget-view+json": {
       "version_major": 2,
       "version_minor": 0,
       "model_id": "101889250183473886804a14460f34f5"
      }
     },
     "metadata": {},
     "output_type": "display_data"
    },
    {
     "data": {
      "text/plain": "Inferencing Samples:   0%|          | 0/1 [00:00<?, ? Batches/s]",
      "application/vnd.jupyter.widget-view+json": {
       "version_major": 2,
       "version_minor": 0,
       "model_id": "cb9bb42ff1404c19bb6ff79e78a4d020"
      }
     },
     "metadata": {},
     "output_type": "display_data"
    },
    {
     "data": {
      "text/plain": "Inferencing Samples:   0%|          | 0/1 [00:00<?, ? Batches/s]",
      "application/vnd.jupyter.widget-view+json": {
       "version_major": 2,
       "version_minor": 0,
       "model_id": "33f98a838e2a4fe38950717c7017eaea"
      }
     },
     "metadata": {},
     "output_type": "display_data"
    },
    {
     "data": {
      "text/plain": "Inferencing Samples:   0%|          | 0/1 [00:00<?, ? Batches/s]",
      "application/vnd.jupyter.widget-view+json": {
       "version_major": 2,
       "version_minor": 0,
       "model_id": "d023ed6f974947609234a4326bf78e54"
      }
     },
     "metadata": {},
     "output_type": "display_data"
    },
    {
     "data": {
      "text/plain": "Inferencing Samples:   0%|          | 0/1 [00:00<?, ? Batches/s]",
      "application/vnd.jupyter.widget-view+json": {
       "version_major": 2,
       "version_minor": 0,
       "model_id": "f919790eb52048a983777f54e78a2a57"
      }
     },
     "metadata": {},
     "output_type": "display_data"
    },
    {
     "data": {
      "text/plain": "Inferencing Samples:   0%|          | 0/1 [00:00<?, ? Batches/s]",
      "application/vnd.jupyter.widget-view+json": {
       "version_major": 2,
       "version_minor": 0,
       "model_id": "171eedcec00d492aa3b36ce5d1cc6eec"
      }
     },
     "metadata": {},
     "output_type": "display_data"
    },
    {
     "data": {
      "text/plain": "Inferencing Samples:   0%|          | 0/1 [00:00<?, ? Batches/s]",
      "application/vnd.jupyter.widget-view+json": {
       "version_major": 2,
       "version_minor": 0,
       "model_id": "7e2b5109005643889b8efc5bc50f8e12"
      }
     },
     "metadata": {},
     "output_type": "display_data"
    },
    {
     "data": {
      "text/plain": "Inferencing Samples:   0%|          | 0/1 [00:00<?, ? Batches/s]",
      "application/vnd.jupyter.widget-view+json": {
       "version_major": 2,
       "version_minor": 0,
       "model_id": "d30d8fda5a9647948bab4c1916cd495b"
      }
     },
     "metadata": {},
     "output_type": "display_data"
    },
    {
     "data": {
      "text/plain": "Inferencing Samples:   0%|          | 0/1 [00:00<?, ? Batches/s]",
      "application/vnd.jupyter.widget-view+json": {
       "version_major": 2,
       "version_minor": 0,
       "model_id": "907f6a834e7340679d20fe99ca590fba"
      }
     },
     "metadata": {},
     "output_type": "display_data"
    },
    {
     "data": {
      "text/plain": "Inferencing Samples:   0%|          | 0/1 [00:00<?, ? Batches/s]",
      "application/vnd.jupyter.widget-view+json": {
       "version_major": 2,
       "version_minor": 0,
       "model_id": "1d93196cb0274c7887a93aa40c510b82"
      }
     },
     "metadata": {},
     "output_type": "display_data"
    },
    {
     "data": {
      "text/plain": "Inferencing Samples:   0%|          | 0/1 [00:00<?, ? Batches/s]",
      "application/vnd.jupyter.widget-view+json": {
       "version_major": 2,
       "version_minor": 0,
       "model_id": "2c0105dccfd84352a39d93b51e0be7f6"
      }
     },
     "metadata": {},
     "output_type": "display_data"
    },
    {
     "data": {
      "text/plain": "Inferencing Samples:   0%|          | 0/1 [00:00<?, ? Batches/s]",
      "application/vnd.jupyter.widget-view+json": {
       "version_major": 2,
       "version_minor": 0,
       "model_id": "4dbe85a77b634484aceecd4f94a3ef12"
      }
     },
     "metadata": {},
     "output_type": "display_data"
    },
    {
     "data": {
      "text/plain": "Inferencing Samples:   0%|          | 0/1 [00:00<?, ? Batches/s]",
      "application/vnd.jupyter.widget-view+json": {
       "version_major": 2,
       "version_minor": 0,
       "model_id": "d840c3502a9d48c282372c5fff42f43a"
      }
     },
     "metadata": {},
     "output_type": "display_data"
    },
    {
     "data": {
      "text/plain": "Inferencing Samples:   0%|          | 0/1 [00:00<?, ? Batches/s]",
      "application/vnd.jupyter.widget-view+json": {
       "version_major": 2,
       "version_minor": 0,
       "model_id": "89032f62695a48aaae49792dad1632db"
      }
     },
     "metadata": {},
     "output_type": "display_data"
    },
    {
     "data": {
      "text/plain": "Inferencing Samples:   0%|          | 0/1 [00:00<?, ? Batches/s]",
      "application/vnd.jupyter.widget-view+json": {
       "version_major": 2,
       "version_minor": 0,
       "model_id": "10dcc309c0634b98ab7db22f6e7af9ab"
      }
     },
     "metadata": {},
     "output_type": "display_data"
    },
    {
     "data": {
      "text/plain": "Inferencing Samples:   0%|          | 0/1 [00:00<?, ? Batches/s]",
      "application/vnd.jupyter.widget-view+json": {
       "version_major": 2,
       "version_minor": 0,
       "model_id": "d0f8034b2cbf4044ba578bd1730952a1"
      }
     },
     "metadata": {},
     "output_type": "display_data"
    },
    {
     "data": {
      "text/plain": "Inferencing Samples:   0%|          | 0/1 [00:00<?, ? Batches/s]",
      "application/vnd.jupyter.widget-view+json": {
       "version_major": 2,
       "version_minor": 0,
       "model_id": "e981680b35be49118cc3afeca0c98442"
      }
     },
     "metadata": {},
     "output_type": "display_data"
    },
    {
     "data": {
      "text/plain": "Inferencing Samples:   0%|          | 0/1 [00:00<?, ? Batches/s]",
      "application/vnd.jupyter.widget-view+json": {
       "version_major": 2,
       "version_minor": 0,
       "model_id": "0287605eedf94b4baab82cee41c5245a"
      }
     },
     "metadata": {},
     "output_type": "display_data"
    },
    {
     "data": {
      "text/plain": "Inferencing Samples:   0%|          | 0/1 [00:00<?, ? Batches/s]",
      "application/vnd.jupyter.widget-view+json": {
       "version_major": 2,
       "version_minor": 0,
       "model_id": "93c1f23e89cf46b19cc6d040b1356990"
      }
     },
     "metadata": {},
     "output_type": "display_data"
    },
    {
     "data": {
      "text/plain": "Inferencing Samples:   0%|          | 0/1 [00:00<?, ? Batches/s]",
      "application/vnd.jupyter.widget-view+json": {
       "version_major": 2,
       "version_minor": 0,
       "model_id": "a9fde0142c3d432696448ec30bd5c142"
      }
     },
     "metadata": {},
     "output_type": "display_data"
    },
    {
     "data": {
      "text/plain": "Inferencing Samples:   0%|          | 0/1 [00:00<?, ? Batches/s]",
      "application/vnd.jupyter.widget-view+json": {
       "version_major": 2,
       "version_minor": 0,
       "model_id": "3b86ef0745e64e82af88de852adf98ad"
      }
     },
     "metadata": {},
     "output_type": "display_data"
    },
    {
     "data": {
      "text/plain": "Inferencing Samples:   0%|          | 0/1 [00:00<?, ? Batches/s]",
      "application/vnd.jupyter.widget-view+json": {
       "version_major": 2,
       "version_minor": 0,
       "model_id": "4846a0288e374ce3a931c3ff3ce07712"
      }
     },
     "metadata": {},
     "output_type": "display_data"
    },
    {
     "data": {
      "text/plain": "Inferencing Samples:   0%|          | 0/1 [00:00<?, ? Batches/s]",
      "application/vnd.jupyter.widget-view+json": {
       "version_major": 2,
       "version_minor": 0,
       "model_id": "9ad26e9c4c9c40d8bf6ffe38a3f30384"
      }
     },
     "metadata": {},
     "output_type": "display_data"
    },
    {
     "data": {
      "text/plain": "Inferencing Samples:   0%|          | 0/1 [00:00<?, ? Batches/s]",
      "application/vnd.jupyter.widget-view+json": {
       "version_major": 2,
       "version_minor": 0,
       "model_id": "16553473681f4a28b2c3dcbc5307a307"
      }
     },
     "metadata": {},
     "output_type": "display_data"
    },
    {
     "data": {
      "text/plain": "Inferencing Samples:   0%|          | 0/1 [00:00<?, ? Batches/s]",
      "application/vnd.jupyter.widget-view+json": {
       "version_major": 2,
       "version_minor": 0,
       "model_id": "62084496aa4544388b4667fb9f606f25"
      }
     },
     "metadata": {},
     "output_type": "display_data"
    },
    {
     "data": {
      "text/plain": "Inferencing Samples:   0%|          | 0/1 [00:00<?, ? Batches/s]",
      "application/vnd.jupyter.widget-view+json": {
       "version_major": 2,
       "version_minor": 0,
       "model_id": "a51f3544b6994c669a9cb4951f98341b"
      }
     },
     "metadata": {},
     "output_type": "display_data"
    },
    {
     "data": {
      "text/plain": "Inferencing Samples:   0%|          | 0/1 [00:00<?, ? Batches/s]",
      "application/vnd.jupyter.widget-view+json": {
       "version_major": 2,
       "version_minor": 0,
       "model_id": "f90276179d954926af1244d52692b9da"
      }
     },
     "metadata": {},
     "output_type": "display_data"
    },
    {
     "data": {
      "text/plain": "Inferencing Samples:   0%|          | 0/1 [00:00<?, ? Batches/s]",
      "application/vnd.jupyter.widget-view+json": {
       "version_major": 2,
       "version_minor": 0,
       "model_id": "a66fb60d890e434a98ad1e606bacde75"
      }
     },
     "metadata": {},
     "output_type": "display_data"
    },
    {
     "data": {
      "text/plain": "Inferencing Samples:   0%|          | 0/1 [00:00<?, ? Batches/s]",
      "application/vnd.jupyter.widget-view+json": {
       "version_major": 2,
       "version_minor": 0,
       "model_id": "a14437581ea54d3d9da656d37ade4f25"
      }
     },
     "metadata": {},
     "output_type": "display_data"
    },
    {
     "data": {
      "text/plain": "Inferencing Samples:   0%|          | 0/1 [00:00<?, ? Batches/s]",
      "application/vnd.jupyter.widget-view+json": {
       "version_major": 2,
       "version_minor": 0,
       "model_id": "27745dc1b42f41a9b5a4eca69e21d757"
      }
     },
     "metadata": {},
     "output_type": "display_data"
    },
    {
     "data": {
      "text/plain": "Inferencing Samples:   0%|          | 0/1 [00:00<?, ? Batches/s]",
      "application/vnd.jupyter.widget-view+json": {
       "version_major": 2,
       "version_minor": 0,
       "model_id": "e582c6f81ed9459a85ecae7f98f4a429"
      }
     },
     "metadata": {},
     "output_type": "display_data"
    },
    {
     "data": {
      "text/plain": "Inferencing Samples:   0%|          | 0/1 [00:00<?, ? Batches/s]",
      "application/vnd.jupyter.widget-view+json": {
       "version_major": 2,
       "version_minor": 0,
       "model_id": "20d3f644ffc4460292c1bc94fac2c8c5"
      }
     },
     "metadata": {},
     "output_type": "display_data"
    },
    {
     "data": {
      "text/plain": "Inferencing Samples:   0%|          | 0/1 [00:00<?, ? Batches/s]",
      "application/vnd.jupyter.widget-view+json": {
       "version_major": 2,
       "version_minor": 0,
       "model_id": "3d89193c0fed4bd2a90dff6787718e2d"
      }
     },
     "metadata": {},
     "output_type": "display_data"
    },
    {
     "data": {
      "text/plain": "Inferencing Samples:   0%|          | 0/1 [00:00<?, ? Batches/s]",
      "application/vnd.jupyter.widget-view+json": {
       "version_major": 2,
       "version_minor": 0,
       "model_id": "0611daf3f85d4bfa8cdde5e876561252"
      }
     },
     "metadata": {},
     "output_type": "display_data"
    },
    {
     "data": {
      "text/plain": "Inferencing Samples:   0%|          | 0/1 [00:00<?, ? Batches/s]",
      "application/vnd.jupyter.widget-view+json": {
       "version_major": 2,
       "version_minor": 0,
       "model_id": "2228ee18aef948488473cb5c832561b7"
      }
     },
     "metadata": {},
     "output_type": "display_data"
    },
    {
     "data": {
      "text/plain": "Inferencing Samples:   0%|          | 0/1 [00:00<?, ? Batches/s]",
      "application/vnd.jupyter.widget-view+json": {
       "version_major": 2,
       "version_minor": 0,
       "model_id": "6d24c1b36a284643baa5c0c29cd028ad"
      }
     },
     "metadata": {},
     "output_type": "display_data"
    },
    {
     "data": {
      "text/plain": "Inferencing Samples:   0%|          | 0/1 [00:00<?, ? Batches/s]",
      "application/vnd.jupyter.widget-view+json": {
       "version_major": 2,
       "version_minor": 0,
       "model_id": "94e0ad2b7650452c980d9a43768e4ea4"
      }
     },
     "metadata": {},
     "output_type": "display_data"
    },
    {
     "data": {
      "text/plain": "Inferencing Samples:   0%|          | 0/1 [00:00<?, ? Batches/s]",
      "application/vnd.jupyter.widget-view+json": {
       "version_major": 2,
       "version_minor": 0,
       "model_id": "5b31a1d6129148988daee9390d01277c"
      }
     },
     "metadata": {},
     "output_type": "display_data"
    },
    {
     "data": {
      "text/plain": "Inferencing Samples:   0%|          | 0/1 [00:00<?, ? Batches/s]",
      "application/vnd.jupyter.widget-view+json": {
       "version_major": 2,
       "version_minor": 0,
       "model_id": "9268afe03108403598ab90fbfe29fc50"
      }
     },
     "metadata": {},
     "output_type": "display_data"
    },
    {
     "data": {
      "text/plain": "Inferencing Samples:   0%|          | 0/1 [00:00<?, ? Batches/s]",
      "application/vnd.jupyter.widget-view+json": {
       "version_major": 2,
       "version_minor": 0,
       "model_id": "1ac7bbeb0c464cdd85aac6fdec5d6d8b"
      }
     },
     "metadata": {},
     "output_type": "display_data"
    }
   ],
   "source": [
    "reader = FARMReader(\"deepset/roberta-base-squad2\")\n",
    "qag_pipeline = QuestionAnswerGenerationPipeline(question_generator, reader)\n",
    "for idx, document in enumerate(document_store):\n",
    "\n",
    "    # print(f\"\\n * Generating questions and answers for document {idx}: {document.content[:100]}...\\n\")\n",
    "    result = qag_pipeline.run(documents=[document])\n",
    "    # print_questions(result)\n",
    "\n",
    "    for i, ans in enumerate(result['answers']):\n",
    "        if ans:\n",
    "            answers.append(ans)\n",
    "            questions.append(result['queries'][i])"
   ],
   "metadata": {
    "collapsed": false
   }
  },
  {
   "cell_type": "code",
   "execution_count": 41,
   "outputs": [
    {
     "data": {
      "text/plain": "(141, 141)"
     },
     "execution_count": 41,
     "metadata": {},
     "output_type": "execute_result"
    }
   ],
   "source": [
    "len(questions), len(answers)"
   ],
   "metadata": {
    "collapsed": false
   }
  },
  {
   "cell_type": "markdown",
   "source": [
    "### Train DecoderGPT"
   ],
   "metadata": {
    "collapsed": false
   }
  },
  {
   "cell_type": "code",
   "execution_count": null,
   "outputs": [],
   "source": [],
   "metadata": {
    "collapsed": false
   }
  }
 ],
 "metadata": {
  "kernelspec": {
   "display_name": "Python 3",
   "language": "python",
   "name": "python3"
  },
  "language_info": {
   "codemirror_mode": {
    "name": "ipython",
    "version": 2
   },
   "file_extension": ".py",
   "mimetype": "text/x-python",
   "name": "python",
   "nbconvert_exporter": "python",
   "pygments_lexer": "ipython2",
   "version": "2.7.6"
  }
 },
 "nbformat": 4,
 "nbformat_minor": 0
}
